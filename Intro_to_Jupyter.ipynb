{
 "cells": [
  {
   "cell_type": "markdown",
   "metadata": {},
   "source": [
    "# Getting Started with the Jupyter Notebook\n",
    "---"
   ]
  },
  {
   "cell_type": "markdown",
   "metadata": {},
   "source": [
    "The [Jupyter Notebook](https://jupyter4edu.github.io/jupyter-edu-book/index.html) is a browser based *scientific notebook* that is useful for learning, developing, and deploying data science tasks. You might be asking yourself, \"What exactly is a scientific notebook?\" Well, a scientific notebook is a living electronic document that combines code, data visualizations, markup text, mathematical equations, and other multimedia. In other words: it's a digital palimpsest designed to make your work more digestable, repeatable, and shareable.\n",
    "\n",
    "While Jupyter originally supported [Python](https://wiki.python.org/moin/FrontPage), via the [IPython kernel](https://ipython.readthedocs.io/en/stable/install/kernel_install.html), it now supports more programming languages, including [Java](https://www.programiz.com/java-programming), [R](https://www.r-project.org/about.html), [Haskell](https://www.haskell.org/), and [Matlab](https://www.mathworks.com/products/matlab.html). Additionally, you can directly embed scripts, including [Bash](http://matt.might.net/articles/bash-by-example/) scripts, within a cell. This paradigmatic shift in technology quickly grew popular with the data science community, and is continuing to be developed as [Project Jupyter](https://jupyter.org/), which emphasizes a language-agnostic view of scientific notebooks. More importantly, the Jupyter team develops and maintains a set of [Docker images](https://jupyter-docker-stacks.readthedocs.io/en/latest/using/selecting.html) to simplify the adoption and proliferation of notebooks.\n",
    "\n",
    "For this introductory notebook, we will be delving into the basics of the Jupyter Notebook, specfically:\n",
    "\n",
    "- **Magics**\n",
    "- **Markdown**\n",
    "- **Bash scripts**\n",
    "- **Math formulae**\n",
    "- **Unix commands**\n",
    "- **Data visualization**\n",
    "- **Executing Python code**"
   ]
  },
  {
   "cell_type": "markdown",
   "metadata": {},
   "source": [
    "## Magics\n",
    "Jupyter provides specific [commands](https://ipython.readthedocs.io/en/stable/interactive/magics.html), called *magics*, that you can execute within a cell to augment the functionality of the current notebook. Magics are not part of the Python programming language, but can often simplify programming, especially within the notebook, and some magics can even be used to enhance your data processing capabilities. There are two types of magics: \n",
    "\n",
    "- Line magics.\n",
    "- Cell magics.\n",
    "\n",
    "To see the list of currently available magics, please execute the following cell.\n",
    "\n",
    "---"
   ]
  },
  {
   "cell_type": "code",
   "execution_count": 20,
   "metadata": {},
   "outputs": [
    {
     "data": {
      "application/json": {
       "cell": {
        "!": "OSMagics",
        "HTML": "Other",
        "SVG": "Other",
        "bash": "Other",
        "capture": "ExecutionMagics",
        "cmd": "Other",
        "debug": "ExecutionMagics",
        "file": "Other",
        "html": "DisplayMagics",
        "javascript": "DisplayMagics",
        "js": "DisplayMagics",
        "latex": "DisplayMagics",
        "markdown": "DisplayMagics",
        "perl": "Other",
        "prun": "ExecutionMagics",
        "pypy": "Other",
        "python": "Other",
        "python2": "Other",
        "python3": "Other",
        "ruby": "Other",
        "script": "ScriptMagics",
        "sh": "Other",
        "svg": "DisplayMagics",
        "sx": "OSMagics",
        "system": "OSMagics",
        "time": "ExecutionMagics",
        "timeit": "ExecutionMagics",
        "writefile": "OSMagics"
       },
       "line": {
        "alias": "OSMagics",
        "alias_magic": "BasicMagics",
        "autoawait": "AsyncMagics",
        "autocall": "AutoMagics",
        "automagic": "AutoMagics",
        "autosave": "KernelMagics",
        "bookmark": "OSMagics",
        "cd": "OSMagics",
        "clear": "KernelMagics",
        "cls": "KernelMagics",
        "colors": "BasicMagics",
        "conda": "PackagingMagics",
        "config": "ConfigMagics",
        "connect_info": "KernelMagics",
        "copy": "Other",
        "ddir": "Other",
        "debug": "ExecutionMagics",
        "dhist": "OSMagics",
        "dirs": "OSMagics",
        "doctest_mode": "BasicMagics",
        "echo": "Other",
        "ed": "Other",
        "edit": "KernelMagics",
        "env": "OSMagics",
        "gui": "BasicMagics",
        "hist": "Other",
        "history": "HistoryMagics",
        "killbgscripts": "ScriptMagics",
        "ldir": "Other",
        "less": "KernelMagics",
        "load": "CodeMagics",
        "load_ext": "ExtensionMagics",
        "loadpy": "CodeMagics",
        "logoff": "LoggingMagics",
        "logon": "LoggingMagics",
        "logstart": "LoggingMagics",
        "logstate": "LoggingMagics",
        "logstop": "LoggingMagics",
        "ls": "Other",
        "lsmagic": "BasicMagics",
        "macro": "ExecutionMagics",
        "magic": "BasicMagics",
        "matplotlib": "PylabMagics",
        "mkdir": "Other",
        "more": "KernelMagics",
        "notebook": "BasicMagics",
        "page": "BasicMagics",
        "pastebin": "CodeMagics",
        "pdb": "ExecutionMagics",
        "pdef": "NamespaceMagics",
        "pdoc": "NamespaceMagics",
        "pfile": "NamespaceMagics",
        "pinfo": "NamespaceMagics",
        "pinfo2": "NamespaceMagics",
        "pip": "PackagingMagics",
        "popd": "OSMagics",
        "pprint": "BasicMagics",
        "precision": "BasicMagics",
        "prun": "ExecutionMagics",
        "psearch": "NamespaceMagics",
        "psource": "NamespaceMagics",
        "pushd": "OSMagics",
        "pwd": "OSMagics",
        "pycat": "OSMagics",
        "pylab": "PylabMagics",
        "qtconsole": "KernelMagics",
        "quickref": "BasicMagics",
        "recall": "HistoryMagics",
        "rehashx": "OSMagics",
        "reload_ext": "ExtensionMagics",
        "ren": "Other",
        "rep": "Other",
        "rerun": "HistoryMagics",
        "reset": "NamespaceMagics",
        "reset_selective": "NamespaceMagics",
        "rmdir": "Other",
        "run": "ExecutionMagics",
        "save": "CodeMagics",
        "sc": "OSMagics",
        "set_env": "OSMagics",
        "store": "StoreMagics",
        "sx": "OSMagics",
        "system": "OSMagics",
        "tb": "ExecutionMagics",
        "time": "ExecutionMagics",
        "timeit": "ExecutionMagics",
        "unalias": "OSMagics",
        "unload_ext": "ExtensionMagics",
        "who": "NamespaceMagics",
        "who_ls": "NamespaceMagics",
        "whos": "NamespaceMagics",
        "xdel": "NamespaceMagics",
        "xmode": "BasicMagics"
       }
      },
      "text/plain": [
       "Available line magics:\n",
       "%alias  %alias_magic  %autoawait  %autocall  %automagic  %autosave  %bookmark  %cd  %clear  %cls  %colors  %conda  %config  %connect_info  %copy  %ddir  %debug  %dhist  %dirs  %doctest_mode  %echo  %ed  %edit  %env  %gui  %hist  %history  %killbgscripts  %ldir  %less  %load  %load_ext  %loadpy  %logoff  %logon  %logstart  %logstate  %logstop  %ls  %lsmagic  %macro  %magic  %matplotlib  %mkdir  %more  %notebook  %page  %pastebin  %pdb  %pdef  %pdoc  %pfile  %pinfo  %pinfo2  %pip  %popd  %pprint  %precision  %prun  %psearch  %psource  %pushd  %pwd  %pycat  %pylab  %qtconsole  %quickref  %recall  %rehashx  %reload_ext  %ren  %rep  %rerun  %reset  %reset_selective  %rmdir  %run  %save  %sc  %set_env  %store  %sx  %system  %tb  %time  %timeit  %unalias  %unload_ext  %who  %who_ls  %whos  %xdel  %xmode\n",
       "\n",
       "Available cell magics:\n",
       "%%!  %%HTML  %%SVG  %%bash  %%capture  %%cmd  %%debug  %%file  %%html  %%javascript  %%js  %%latex  %%markdown  %%perl  %%prun  %%pypy  %%python  %%python2  %%python3  %%ruby  %%script  %%sh  %%svg  %%sx  %%system  %%time  %%timeit  %%writefile\n",
       "\n",
       "Automagic is ON, % prefix IS NOT needed for line magics."
      ]
     },
     "execution_count": 20,
     "metadata": {},
     "output_type": "execute_result"
    }
   ],
   "source": [
    "%lsmagic"
   ]
  },
  {
   "cell_type": "markdown",
   "metadata": {},
   "source": [
    "---\n",
    "\n",
    "### Line magic\n",
    "\n",
    "A line magic is prepended by a single `%` character, and any of its arguments will specified on the same line. However, if the line magic `Automagic` is set to `on`, the preceding `%` character is not required. Some useful line magics include:\n",
    "\n",
    "- `%lsmagic`, which lists all currently defined line and cell magics for the current notebook,\n",
    "- `%who_ls`, which shows you the list of variables in your environment,\n",
    "- `%matplotlib`, which allows inline plotting to be enabled (and is preferred over the old `%pylab` magic,\n",
    "- `%run`, which will run the named file as a program in the current cell,\n",
    "- `%autosave`, which sets the default autosave frequency in seconds, and\n",
    "- `%timeit`, which in line mode times the execution of a single line of code.\n",
    "\n",
    "---"
   ]
  },
  {
   "cell_type": "markdown",
   "metadata": {},
   "source": [
    "\n",
    "### Cell magics\n",
    "\n",
    "A cell magic is prepended by two `%` char?acters, and they can have arguments that include both the current line and the remaining lines in the current cell. Thus, cell magics must be placed on the first line of a cell, and in general you can only have one cell magic per cell. Some useful line magics include:\n",
    "\n",
    "- `%timeit`, which can be used to time a multi-line Python statement,\n",
    "- `%run`, which will run the named file as a program in the current cell,\n",
    "- `%writefile` writes the contents of the cell into the named file,\n",
    "- `%script`, which can be used to create and run a script in a subprocess including Python, Bash, or R, and\n",
    "- `%bash`, which lets you run a Bash shell script and optionally capture the STDOUT and STDERR streams into variables.\n",
    "\n",
    "If you're unsure about how to use a specific magic, you can get help from the IPython kernel by entering the magic by itself in a cell, appending a `?` at the end, then executing the cell to launch the help window, as demonstrated below for the `%%script` magic."
   ]
  },
  {
   "cell_type": "code",
   "execution_count": 28,
   "metadata": {},
   "outputs": [],
   "source": [
    "%%script?"
   ]
  },
  {
   "cell_type": "markdown",
   "metadata": {},
   "source": [
    "## Header Cells\n",
    "\n",
    "While you can use Markdown to create formatted header lines, it's recommended that you make a header cell. You can create a cell to hold the header text, for example \"Getting Started with the Jupyter Notebook\" and change the cell type to the appropriate header level by using the **Insert Cell** command on the toolbar."
   ]
  },
  {
   "cell_type": "markdown",
   "metadata": {},
   "source": [
    "## NBConvert Cells\n",
    "\n",
    "The Jupyter Notebook can be converted into various output formats. The `nbconvert` tool converts from the default JSON native format of the `ipynb` file to whatever output format you have chosen. The contents of Raw NBConvert cells are left unmodified during output, and this allows for post-processing of the generated file, as you would see with LaTeX. These particular cells are beyond the scope of this tutorial.\n",
    "\n",
    "---"
   ]
  },
  {
   "cell_type": "markdown",
   "metadata": {},
   "source": [
    "## Markdown\n",
    "\n",
    "[Markdown] is a markup language with a plain-text formatting syntax that allows you to write text that can be converted to formatted text, like HTML. Markdown was developed by John Gruber, who runs the popular [Daring Fireball](https://daringfireball.net/) blog. Markdown has found many uses in the world of data science and computer science, two of which apply to this tutorial:\n",
    "\n",
    "1. Github documentation pages.\n",
    "2. Jupyter notebook documentation cells.\n"
   ]
  },
  {
   "cell_type": "markdown",
   "metadata": {},
   "source": [
    "## Unix Commands\n",
    "\n",
    "Later in this tutorial, we'll explore the Unix file system from the command line. What's really cool about Unix is most of its commands can be run from within the Jupyter Notebook by using a _Code Cell_ and preceding the command with an exclamation point. For example, to display the current working directory, you would enter `!pwd` and then execute the code cell. \n",
    "\n",
    "There are myriad uses for this capability. For example, you can insert a `wget` command at the start of a Jupyter Notebook to retrieve a data set that'll be used later. This allows the notebook to be self-contained and easy to distribute in order to run in a Docker container on another machine. \n",
    "\n",
    "If you attempt a more sophisticated command, like `curl`, in the Jupyter Notebook, you'll see the non-blocking capability of IPython code cells, since the Unix command runs in the background, allowing you to continue working within the Notebook."
   ]
  },
  {
   "cell_type": "markdown",
   "metadata": {},
   "source": [
    "## Writing and Executing Code\n",
    "\n",
    "Obviously, the reason we use these notebooks is because they allow for development and execution of Python code within the notebook itself. There are many benefits to doing this:\n",
    "  \n",
    "1. Displaying inline visualizations, \n",
    "2. Running code in the background while you work in other cells,  \n",
    "3. Clean restarts of the kernel, and  \n",
    "4. Built-in support for parallelization.\n",
    "\n",
    "The easiest of these to demonstrate is running code in the Notebook. Code can be a single line or multiple lines, and cells can be executed using one of two combinations: CTRL-return, which executes the cell in place, or SHIFT-return, which executes the code and advances to the next cell. For example, as seen below, there's a line of Python code that can be executed with the output directly shown."
   ]
  },
  {
   "cell_type": "code",
   "execution_count": 45,
   "metadata": {},
   "outputs": [
    {
     "name": "stdout",
     "output_type": "stream",
     "text": [
      "Hello, Medium readers!\n"
     ]
    }
   ],
   "source": [
    "print(\"Hello, Medium readers!\")"
   ]
  },
  {
   "cell_type": "markdown",
   "metadata": {},
   "source": [
    "---\n",
    "\n",
    "### Python Programs\n",
    "\n",
    "A Jupyter Notebook code cell can take a full Python program, including importing Python libraries, which are in scope for the remainder of the Notebook. For example, if you're a big fan of Calculus II, you can compute the integral shown below by importing a constant and a function from the `NumPy` library and an integration function from the `SciPy` library:\n",
    "\n",
    "$\\int_0^{\\pi} \\sin(\\theta)\\ d\\theta = 2$ \n",
    "\n",
    "(Don't forget to execute the next cell to see how this code is executed!)\n",
    "\n",
    "Note: If you're unfamiliar with Python statements, I would recommend familiarizing yourself with the basics before continung with this tutorial. A quick Google search will help you find free Python tutorials, including this [*Hello World* tutorial](https://www.freecodecamp.org/news/hello-world-programming-tutorial-for-python/) for Python on freecodecamp.org. "
   ]
  },
  {
   "cell_type": "code",
   "execution_count": 49,
   "metadata": {},
   "outputs": [
    {
     "name": "stdout",
     "output_type": "stream",
     "text": [
      "The Integral = 2.0\n"
     ]
    }
   ],
   "source": [
    "import numpy as np\n",
    "from scipy.integrate import quad\n",
    "\n",
    "print(\"The Integral = %3.1f\" % quad(np.sin, -2.0 * np.pi, np.pi)[0])"
   ]
  },
  {
   "cell_type": "markdown",
   "metadata": {},
   "source": [
    "---\n",
    "\n",
    "### Inline Figures\n",
    "\n",
    "When creating data visualizations, the resulting graphs and plots can be displayed inline. One of the easiest ways to do this is to use the `%matplotlib` line magic, which will tell the kernel to display the image inline. (This magic can take either the `inline` or the `notebook` value but, for the sake of simplicity, we'll stick with the `inline` value for this tutorial.) "
   ]
  },
  {
   "cell_type": "code",
   "execution_count": 54,
   "metadata": {},
   "outputs": [
    {
     "data": {
      "image/png": "[encoded data removed]",
      "text/plain": [
       "<Figure size 432x288 with 1 Axes>"
      ]
     },
     "metadata": {
      "needs_background": "light"
     },
     "output_type": "display_data"
    }
   ],
   "source": [
    "%matplotlib inline\n",
    "\n",
    "theta = np.arange(0., np.pi, 0.5)\n",
    "y = np.sin(theta)\n",
    "\n",
    "import matplotlib.pyplot as plt\n",
    "\n",
    "plt.plot(theta, y)\n",
    "plt.xlabel(r\"$\\theta$\")\n",
    "plt.ylabel(r\"$\\sin$($\\theta$)\")\n",
    "plt.title(\"Parabolas Rock\")\n",
    "plt.show()"
   ]
  },
  {
   "cell_type": "markdown",
   "metadata": {},
   "source": [
    "---\n",
    "\n",
    "### Working in the Background\n",
    "\n",
    "One of the coolest features of the IPython kernel is that it allows us to run code in the background of a Python program. This is obscenely useful, both when developing, and executing code. For example, the code block below prints out integers from 0 to 19. When you execute the cell, the integers slowly print out, yet we're free to edit or run code in other cells in the notebook."
   ]
  },
  {
   "cell_type": "code",
   "execution_count": 58,
   "metadata": {},
   "outputs": [
    {
     "name": "stdout",
     "output_type": "stream",
     "text": [
      "  0,  1,  2,  3,  4,  5,  6,  7,  8,  9, 10, 11, 12, 13, 14, 15, 16, 17, 18, 19,"
     ]
    }
   ],
   "source": [
    "# Don't forget your imports.\n",
    "import sys\n",
    "from time import sleep\n",
    "\n",
    "# Here's our mutable parameters\n",
    "a = 20\n",
    "b = 2\n",
    "\n",
    "# Now we have a loop which prints a new number before sleeping\n",
    "for i in range(a):\n",
    "    sys.stdout.write(\"%3d,\" % i)\n",
    "    sys.stdout.flush()\n",
    "    sleep(b)\n",
    "    \n",
    "# Annnnnd the code continues running in the background"
   ]
  },
  {
   "cell_type": "markdown",
   "metadata": {},
   "source": [
    "---\n",
    "\n",
    "### Kernel Restarts\n",
    "\n",
    "Sometimes our code might cause the Python interpreter to crash. In a normal development environment, this would be cause for concern, but not with the Jupyter Notebook. Why? The IPython kernel detects this problem and initiates a clean restart.\n",
    "\n",
    "Note: you may experience a kernel crash when following along with this tutorial, but you'll quick discover that it's nothing to worry about.\n",
    "\n",
    "---"
   ]
  },
  {
   "cell_type": "markdown",
   "metadata": {},
   "source": [
    "## Next Up in this Tutorial\n",
    "\n",
    "We'll dig deeper into some of the aforementioned topics. Specifically,\n",
    "\n",
    "- The specifics of Markdown\n",
    "- A quick Python tutorial\n",
    "- Basic data structures in Python\n",
    "- Functions in Python\n",
    "- Intro to Unix\n",
    "- A primer on descriptive statistics\n",
    "\n",
    "Hopefully, you enjoyed this brief introduction to Jupyter Notebooks, and you'll follow along as we learn more about data science and how it can facilitate more rigorous data analysis and decision-making in a multitude of professional fields, including digital marketing, electrical engineering, finance, and project management."
   ]
  }
 ],
 "metadata": {
  "kernelspec": {
   "display_name": "Python 3",
   "language": "python",
   "name": "python3"
  },
  "language_info": {
   "codemirror_mode": {
    "name": "ipython",
    "version": 3
   },
   "file_extension": ".py",
   "mimetype": "text/x-python",
   "name": "python",
   "nbconvert_exporter": "python",
   "pygments_lexer": "ipython3",
   "version": "3.8.3"
  }
 },
 "nbformat": 4,
 "nbformat_minor": 4
}
